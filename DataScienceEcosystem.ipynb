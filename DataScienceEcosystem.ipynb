{
 "cells": [
  {
   "cell_type": "markdown",
   "id": "f4ec2519-d226-4030-8585-60fb76eaa782",
   "metadata": {},
   "source": [
    "# Data Science Tools and Ecosystem"
   ]
  },
  {
   "cell_type": "markdown",
   "id": "7073750b-301a-481b-af2b-97f4af9549cf",
   "metadata": {},
   "source": [
    "## Introduction\n",
    "In this notebook, Data Science Tools and Ecosystem are summarized."
   ]
  },
  {
   "cell_type": "markdown",
   "id": "aeec3d3d-a2ef-449e-9097-8459850b8ce9",
   "metadata": {
    "jp-MarkdownHeadingCollapsed": true
   },
   "source": [
    "## Data Science Languages\n",
    "Some of the popular languages that Data Scientists use are:\n",
    "* Python\n",
    "* R\n",
    "* Julia"
   ]
  },
  {
   "cell_type": "markdown",
   "id": "8d876437-3d51-4ff5-a90c-0a59d84ddbd4",
   "metadata": {},
   "source": [
    "## Data Science Libraries\n",
    "Some of the commonly used libraries used by Data Scientists include:\n",
    "* SciPy\n",
    "* Matplotlib\n",
    "* NumPy\n",
    "* Pandas\n",
    "* TensorFlow"
   ]
  },
  {
   "cell_type": "markdown",
   "id": "f68618fa-38de-4478-b350-168ac3291bce",
   "metadata": {},
   "source": [
    "## Data Science Tools\n",
    "\n",
    "| Data Science Tools|\r\n",
    "|--------------------|\r\n",
    "| Jupyter Notebook  |\r\n",
    "| RStudio          |\r\n",
    "| Apache Zeppelin  |\r\n"
   ]
  },
  {
   "cell_type": "markdown",
   "id": "bceaf8d3-e17a-4e6d-a929-cc2eae03f138",
   "metadata": {},
   "source": [
    "### Arithmetic Expressions\n",
    "\n",
    "Below are a few examples of evaluating arithmetic expressions in Python. Arithmetic expressions are fundamental in programming and data science.\n",
    "\n",
    "|\r\n",
    "\r\n",
    "| Operation        | Expression  | Result |\r\n",
    "|-----------------|------------|--------|\r\n",
    "| Addition       | 5 + 3      | 8      |\r\n",
    "| Subtraction    | 10 - 4     | 6      |\r\n",
    "| Multiplication | 6 * 7      | 42     |\r\n",
    "| Division       | 16 / 4     | 4      |\r\n",
    "| Exponentiation | 2 ** 3     | 8      |\r\n"
   ]
  },
  {
   "cell_type": "code",
   "execution_count": 31,
   "id": "c5b9abd4-68a9-4951-9c83-b24507333766",
   "metadata": {},
   "outputs": [
    {
     "data": {
      "text/plain": [
       "17"
      ]
     },
     "execution_count": 31,
     "metadata": {},
     "output_type": "execute_result"
    }
   ],
   "source": [
    "# This a simple arithmetic expression to mutiply then add integers\n",
    "(3*4)+5"
   ]
  },
  {
   "cell_type": "code",
   "execution_count": 33,
   "id": "e5977bed-6bf6-4226-8137-bf0efe485288",
   "metadata": {},
   "outputs": [
    {
     "data": {
      "text/plain": [
       "3.3333333333333335"
      ]
     },
     "execution_count": 33,
     "metadata": {},
     "output_type": "execute_result"
    }
   ],
   "source": [
    "# Converting minutes to hours\n",
    "# 200 minutes to hours -  This will convert 200 minutes to hours by diving by 60\n",
    "200/60"
   ]
  },
  {
   "cell_type": "markdown",
   "id": "c4d827c1-c273-4c99-b751-c9e172406433",
   "metadata": {},
   "source": [
    "### Objectives"
   ]
  },
  {
   "cell_type": "markdown",
   "id": "58eb6240-f728-4ffa-b549-019c2031da73",
   "metadata": {},
   "source": [
    "- List popular languages for Data Science  \n",
    "- Identify common libraries used in Data Science  \n",
    "- Describe key development environment open-source tools  \n",
    "- Understand basic arithmetic expressions in programming  \n",
    "- Learn about version control using Git and GitHub  "
   ]
  },
  {
   "cell_type": "markdown",
   "id": "1b44ed29-5df9-4f93-bc32-ab87e63bedbf",
   "metadata": {},
   "source": [
    "## Author's name: \n",
    "Adam Kureshi\n"
   ]
  }
 ],
 "metadata": {
  "kernelspec": {
   "display_name": "Python 3 (ipykernel)",
   "language": "python",
   "name": "python3"
  },
  "language_info": {
   "codemirror_mode": {
    "name": "ipython",
    "version": 3
   },
   "file_extension": ".py",
   "mimetype": "text/x-python",
   "name": "python",
   "nbconvert_exporter": "python",
   "pygments_lexer": "ipython3",
   "version": "3.11.5"
  }
 },
 "nbformat": 4,
 "nbformat_minor": 5
}
